{
 "cells": [
  {
   "cell_type": "markdown",
   "metadata": {},
   "source": [
    "<!--HEADER-->\n",
    "*Test 3 for the jupyterbookmaker module*"
   ]
  },
  {
   "cell_type": "markdown",
   "metadata": {},
   "source": [
    "<!--NAVIGATOR-->\n",
    "\n",
    "| [Front page](00.00-Contents.ipynb) | [Bibliografia](BA.00-References.ipynb) | [Preface ->](00.01-Preface.ipynb)\n",
    "\n",
    "---\n"
   ]
  },
  {
   "cell_type": "markdown",
   "metadata": {},
   "source": [
    "# Front page\n",
    "\n",
    "This is an example set of notebooks for the [jupyterbookmaker](https://www.github.com/rmsrosa/jupyterbookmaker) package. Depending on the parameters used, a \"Table of Contents\" will be generated in this file and headers and navigation cells will be generated in each notebook."
   ]
  },
  {
   "cell_type": "markdown",
   "metadata": {},
   "source": [
    "## Table of Contents"
   ]
  },
  {
   "cell_type": "markdown",
   "metadata": {},
   "source": [
    "<!--TABLE_OF_CONTENTS-->\n",
    "\n",
    "\n",
    "### [Front page](00.00-Contents.ipynb)\n",
    "\n",
    "### [Preface](00.01-Preface.ipynb)\n",
    "\n",
    "### [Introduction](00.90-Intro.ipynb)\n",
    "\n",
    "### [1. Methods and parameters](01.00-Methods_and_parameters.ipynb)\n",
    "\n",
    "&nbsp;&nbsp;&nbsp;&nbsp; [1.1. Cell Markers](01.01-Cell_markers.ipynb)\n",
    "\n",
    "&nbsp;&nbsp;&nbsp;&nbsp; [1.2. Creating the table of contents](01.02-Toc_creation.ipynb)\n",
    "\n",
    "&nbsp;&nbsp;&nbsp;&nbsp; [1.3. Creating the headers](01.03-Header_creation.ipynb)\n",
    "\n",
    "&nbsp;&nbsp;&nbsp;&nbsp; [1.4. Creating the navigators](01.04-Navbar_creation.ipynb)\n",
    "\n",
    "&nbsp;&nbsp;&nbsp;&nbsp; [1.5. Creating the book-like structure with all three elements](01.05-Book_creation.ipynb)\n",
    "\n",
    "&nbsp;&nbsp;&nbsp;&nbsp; [1.6. Creating the book-like structure from a configuration file](01.06-Config_book_creation.ipynb)\n",
    "\n",
    "&nbsp;&nbsp;&nbsp;&nbsp; [1.7. Examples of configuration files](01.07-Example_configs.ipynb)\n",
    "\n",
    "### [2. Running the bookmaker as a module](02.00-As_module.ipynb)\n",
    "\n",
    "&nbsp;&nbsp;&nbsp;&nbsp; [2.1. Running via a configuration file](02.01-Run_config.ipynb)\n",
    "\n",
    "### [3. Princípios de modelagem matemática](03.00-As_script.ipynb)\n",
    "\n",
    "### [Bibliografia](BA.00-References.ipynb)\n"
   ]
  },
  {
   "cell_type": "markdown",
   "metadata": {},
   "source": [
    "<!--NAVIGATOR-->\n",
    "\n",
    "---\n",
    "| [Front page](00.00-Contents.ipynb) | [Bibliografia](BA.00-References.ipynb) | [Preface ->](00.01-Preface.ipynb)"
   ]
  }
 ],
 "metadata": {
  "kernelspec": {
   "display_name": "Python 3",
   "language": "python",
   "name": "python3"
  },
  "language_info": {
   "codemirror_mode": {
    "name": "ipython",
    "version": 3
   },
   "file_extension": ".py",
   "mimetype": "text/x-python",
   "name": "python",
   "nbconvert_exporter": "python",
   "pygments_lexer": "ipython3",
   "version": "3.7.1"
  }
 },
 "nbformat": 4,
 "nbformat_minor": 2
}
