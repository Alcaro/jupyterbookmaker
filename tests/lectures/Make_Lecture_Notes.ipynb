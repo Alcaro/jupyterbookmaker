{
 "cells": [
  {
   "cell_type": "markdown",
   "metadata": {},
   "source": [
    "<!--HEADER-->\n",
    "*Test 3 for the jupyterbookmaker module*"
   ]
  },
  {
   "cell_type": "markdown",
   "metadata": {},
   "source": [
    "<!--NAVIGATOR-->\n",
    "\n",
    "[<- 2. Running the bookmaker as a module](02.00-As_module.ipynb) | [Front page](00.00-Contents.ipynb) | [Bibliografia](BA.00-References.ipynb) | [3. Princípios de modelagem matemática ->](03.00-As_script.ipynb)\n",
    "\n",
    "---\n"
   ]
  },
  {
   "cell_type": "markdown",
   "metadata": {},
   "source": [
    "# Running via a configuration file\n",
    "\n",
    "If the `jupyterbookmaker` package is installed in the environment, just import it with"
   ]
  },
  {
   "cell_type": "code",
   "execution_count": 1,
   "metadata": {},
   "outputs": [
    {
     "ename": "ModuleNotFoundError",
     "evalue": "No module named 'jupyterbookmaker'",
     "output_type": "error",
     "traceback": [
      "\u001b[0;31m---------------------------------------------------------------------------\u001b[0m",
      "\u001b[0;31mModuleNotFoundError\u001b[0m                       Traceback (most recent call last)",
      "\u001b[0;32m<ipython-input-1-a684e1bd883b>\u001b[0m in \u001b[0;36m<module>\u001b[0;34m\u001b[0m\n\u001b[0;32m----> 1\u001b[0;31m \u001b[0;32mimport\u001b[0m \u001b[0mjupyterbookmaker\u001b[0m \u001b[0;32mas\u001b[0m \u001b[0mjbm\u001b[0m\u001b[0;34m\u001b[0m\u001b[0;34m\u001b[0m\u001b[0m\n\u001b[0m",
      "\u001b[0;31mModuleNotFoundError\u001b[0m: No module named 'jupyterbookmaker'"
     ]
    }
   ],
   "source": [
    "import jupyterbookmaker as jbm"
   ]
  },
  {
   "cell_type": "markdown",
   "metadata": {},
   "source": [
    "If it is not, and assuming this set of notebooks is two subdirectories down in the `jupyterbookmaker` package, with the structure\n",
    "\n",
    "jupyternotebook/\n",
    "    |\n",
    "    |- jupyternotebook/\n",
    "    |\n",
    "    |- tests/\n",
    "        |\n",
    "        |- notebooks/\n",
    "        |\n",
    "        |- config1.yml\n",
    "        |- :\n",
    "        |- config5.yml\n",
    "        \n",
    "        \n",
    "then we may import it with"
   ]
  },
  {
   "cell_type": "code",
   "execution_count": 1,
   "metadata": {},
   "outputs": [],
   "source": [
    "import os\n",
    "import sys\n",
    "\n",
    "sys.path.insert(0, os.path.abspath(os.path.join(os.getcwd(), '../..')))\n",
    "\n",
    "import jupyterbookmaker as jbm"
   ]
  },
  {
   "cell_type": "markdown",
   "metadata": {},
   "source": [
    "Then, considering that the configuration files are one folder up, we change the current directory there with"
   ]
  },
  {
   "cell_type": "code",
   "execution_count": 4,
   "metadata": {},
   "outputs": [
    {
     "data": {
      "text/plain": [
       "'/Users/rrosa/Dropbox/Documents/diversos/python/jupyterbookmaker/tests'"
      ]
     },
     "execution_count": 4,
     "metadata": {},
     "output_type": "execute_result"
    }
   ],
   "source": [
    "os.chdir('..')\n",
    "os.getcwd()"
   ]
  },
  {
   "cell_type": "markdown",
   "metadata": {},
   "source": [
    "Then we create the book-like structure using one of the configuration files, say `config3.yml`."
   ]
  },
  {
   "cell_type": "code",
   "execution_count": 7,
   "metadata": {},
   "outputs": [
    {
     "name": "stdout",
     "output_type": "stream",
     "text": [
      "Table of contents inserted in 00.00-Contents.ipynb\n",
      "- amending header for 00.00-Contents.ipynb\n",
      "- amending header for 00.01-Preface.ipynb\n",
      "- amending header for 00.90-Intro.ipynb\n",
      "- amending header for 01.00-Methods_and_parameters.ipynb\n",
      "- amending header for 01.01-Cell_markers.ipynb\n",
      "- amending header for 01.02-Toc_creation.ipynb\n",
      "- amending header for 01.03-Header_creation.ipynb\n",
      "- amending header for 01.04-Navbar_creation.ipynb\n",
      "- amending header for 01.05-Book_creation.ipynb\n",
      "- amending header for 01.06-Config_book_creation.ipynb\n",
      "- amending header for 01.07-Example_configs.ipynb\n",
      "- amending header for 02.00-As_module.ipynb\n",
      "- amending header for 02.01-Run_config.ipynb\n",
      "- amending header for 03.00-As_script.ipynb\n",
      "- amending header for BA.00-References.ipynb\n",
      "- amending navbar for 00.00-Contents.ipynb\n",
      "- amending navbar for 00.01-Preface.ipynb\n",
      "- amending navbar for 00.90-Intro.ipynb\n",
      "- amending navbar for 01.00-Methods_and_parameters.ipynb\n",
      "- amending navbar for 01.01-Cell_markers.ipynb\n",
      "- amending navbar for 01.02-Toc_creation.ipynb\n",
      "- amending navbar for 01.03-Header_creation.ipynb\n",
      "- amending navbar for 01.04-Navbar_creation.ipynb\n",
      "- amending navbar for 01.05-Book_creation.ipynb\n",
      "- amending navbar for 01.06-Config_book_creation.ipynb\n",
      "- amending navbar for 01.07-Example_configs.ipynb\n",
      "- amending navbar for 02.00-As_module.ipynb\n",
      "- amending navbar for 02.01-Run_config.ipynb\n",
      "- amending navbar for 03.00-As_script.ipynb\n",
      "- amending navbar for BA.00-References.ipynb\n"
     ]
    }
   ],
   "source": [
    "jbm.make_book_from_configfile('config3.yml')"
   ]
  },
  {
   "cell_type": "markdown",
   "metadata": {},
   "source": [
    "Once you do that, you need to either close the tab and reopen the notebook or click on `File > Reload Notebook from Disk`, in the top menu bar, in order to see the ch"
   ]
  },
  {
   "cell_type": "markdown",
   "metadata": {},
   "source": [
    "<!--NAVIGATOR-->\n",
    "\n",
    "---\n",
    "[<- 2. Running the bookmaker as a module](02.00-As_module.ipynb) | [Front page](00.00-Contents.ipynb) | [Bibliografia](BA.00-References.ipynb) | [3. Princípios de modelagem matemática ->](03.00-As_script.ipynb)"
   ]
  }
 ],
 "metadata": {
  "kernelspec": {
   "display_name": "Python 3",
   "language": "python",
   "name": "python3"
  },
  "language_info": {
   "codemirror_mode": {
    "name": "ipython",
    "version": 3
   },
   "file_extension": ".py",
   "mimetype": "text/x-python",
   "name": "python",
   "nbconvert_exporter": "python",
   "pygments_lexer": "ipython3",
   "version": "3.7.1"
  }
 },
 "nbformat": 4,
 "nbformat_minor": 2
}
