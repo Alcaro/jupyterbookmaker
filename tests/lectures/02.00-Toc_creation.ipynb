{
 "cells": [
  {
   "cell_type": "markdown",
   "metadata": {},
   "source": [
    "<!--HEADER-->\n",
    "*Header for the set of lecture notes in the jupyterbookmaker module*"
   ]
  },
  {
   "cell_type": "markdown",
   "metadata": {},
   "source": [
    "<!--NAVIGATOR-->\n",
    "\n",
    "[<- 1. Lecture: Cell markers](01.00-Cell_markers.ipynb) | [Front page](00.00-Front_Page.ipynb) | [3. Lecture: Creating the headers ->](03.00-Header_creation.ipynb)\n",
    "\n",
    "---\n"
   ]
  },
  {
   "cell_type": "markdown",
   "metadata": {},
   "source": [
    "# Lecture: Creating the Table of Contents\n",
    "\n",
    "The method to create, or update, the table of contents is called `add_contents()` and its definition starts with\n",
    "```python\n",
    "def add_contents(toc_nb_name, directory='.'):\n",
    "    ...\n",
    "```\n",
    "The argument `toc_nb_name` is required and is the name of the jupyter notebook file in which the table of contents will be written. \n",
    "\n",
    "The `directory` is a non-required argument with the name of the folder in which both the `toc_nb_name` file and the collection of all notebooks to be listed in the table of contents are expected to be. If `directory` is not given, it is assumed to be the current directory. "
   ]
  },
  {
   "cell_type": "markdown",
   "metadata": {},
   "source": [
    "<!--NAVIGATOR-->\n",
    "\n",
    "---\n",
    "[<- 1. Lecture: Cell markers](01.00-Cell_markers.ipynb) | [Front page](00.00-Front_Page.ipynb) | [3. Lecture: Creating the headers ->](03.00-Header_creation.ipynb)"
   ]
  }
 ],
 "metadata": {
  "kernelspec": {
   "display_name": "Python 3",
   "language": "python",
   "name": "python3"
  },
  "language_info": {
   "codemirror_mode": {
    "name": "ipython",
    "version": 3
   },
   "file_extension": ".py",
   "mimetype": "text/x-python",
   "name": "python",
   "nbconvert_exporter": "python",
   "pygments_lexer": "ipython3",
   "version": "3.7.1"
  }
 },
 "nbformat": 4,
 "nbformat_minor": 2
}
