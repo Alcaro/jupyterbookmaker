{
 "cells": [
  {
   "cell_type": "markdown",
   "metadata": {},
   "source": [
    "<!--HEADER-->\n",
    "*Header for the set of lecture notes in the jupyterbookmaker module*"
   ]
  },
  {
   "cell_type": "markdown",
   "metadata": {},
   "source": [
    "<!--NAVIGATOR-->\n",
    "\n",
    "[<- 3. Lecture: Creating the headers](03.00-Header_creation.ipynb) | [Front page](00.00-Front_Page.ipynb) | [5. Lecture: Creating the book-like structure with all three elements ->](05.00-Book_creation.ipynb)\n",
    "\n",
    "---\n"
   ]
  },
  {
   "cell_type": "markdown",
   "metadata": {},
   "source": [
    "# Lecture: Creating the navigators\n",
    "\n",
    "The method to create, or update, the navigator cells is called `add_navigators()` and its definition starts with\n",
    "```python\n",
    "def add_navigators(core_navigators=[], directory='.', \n",
    "                   repository = '', branch = '', \n",
    "                   show_colab=False, show_binder=False, \n",
    "                   show_full_entry=True):\n",
    "    ...\n",
    "```\n",
    "\n",
    "There is no required argument. \n",
    "\n",
    "Here is an explanation of the non-required arguments:\n",
    "\n",
    "- `core_navigators` is a list of strings, where each element is the filename of a Jupyter notebook that you to appear in the navigator bar, in between the *previous* and *next* notebooks. This is useful for direct links to the **Table of Contents** and the **Bibliography**, for instance. If it is not provided, it is assumed to be an empty list, and nothing is showed in between the links for the *previous* and *next* notebooks.\n",
    "\n",
    "- `directory`, as usual, is the name of the folder in which the collection of all notebooks are expected to be. If `directory` is not given, it is assumed to be the current directory.\n",
    "\n",
    "- `repository` is the name of the github repository which the notebooks belong to, if they do belong to one. It defaults to a blank string.\n",
    "\n",
    "- `branch` is the name of the associated branch in the github repository. It defaults to a blank string.\n",
    "\n",
    "- `show_colab` is a `boolean` argument informing the method whether to display the badge with the link to open up the notebook in [Google Colab](https://colab.research.google.com/notebooks/welcome.ipynb) environment in the \"cloud\". This works if the notebooks are in a github repository. It defaults to `False`.\n",
    "\n",
    "- `show_binder` is a `boolean` argument informing the method whether to display the badge with the link to open up the notebook in the [binder](https://mybinder.org/) environment in the \"cloud\". This works if the notebooks are in a github repository. It defaults to `False`.\n",
    "\n",
    "- `show_full_entry` indicates whether to display the chapter and section numbers in the navigation links along with the titles or just the titles. It defaults to `True`.\n",
    "\n",
    "The colab and binder links, when displayed, appear above the navigation bar in the top navigator cell and below the navigation bar in the bottom navigator cell."
   ]
  },
  {
   "cell_type": "markdown",
   "metadata": {},
   "source": [
    "<!--NAVIGATOR-->\n",
    "\n",
    "---\n",
    "[<- 3. Lecture: Creating the headers](03.00-Header_creation.ipynb) | [Front page](00.00-Front_Page.ipynb) | [5. Lecture: Creating the book-like structure with all three elements ->](05.00-Book_creation.ipynb)"
   ]
  }
 ],
 "metadata": {
  "kernelspec": {
   "display_name": "Python 3",
   "language": "python",
   "name": "python3"
  },
  "language_info": {
   "codemirror_mode": {
    "name": "ipython",
    "version": 3
   },
   "file_extension": ".py",
   "mimetype": "text/x-python",
   "name": "python",
   "nbconvert_exporter": "python",
   "pygments_lexer": "ipython3",
   "version": "3.7.1"
  }
 },
 "nbformat": 4,
 "nbformat_minor": 2
}
