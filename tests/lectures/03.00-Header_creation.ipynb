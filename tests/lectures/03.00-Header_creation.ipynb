{
 "cells": [
  {
   "cell_type": "markdown",
   "metadata": {},
   "source": [
    "<!--HEADER-->\n",
    "*Header for the set of lecture notes in the jupyterbookmaker module*"
   ]
  },
  {
   "cell_type": "markdown",
   "metadata": {},
   "source": [
    "<!--NAVIGATOR-->\n",
    "\n",
    "[<- 2. Lecture: Creating the Table of Contents](02.00-Toc_creation.ipynb) | [Front page](00.00-Front_Page.ipynb) | [4. Lecture: Creating the navigators ->](04.00-Navigator_creation.ipynb)\n",
    "\n",
    "---\n"
   ]
  },
  {
   "cell_type": "markdown",
   "metadata": {},
   "source": [
    "# Lecture: Creating the headers\n",
    "\n",
    "The method to create, or update, the headers is called `add_headers()` and its definition starts with\n",
    "```python\n",
    "def add_headers(header, directory='.'):\n",
    "    ...\n",
    "```\n",
    "\n",
    "The argument `add_headers` is required and is a string with the header you want to be displayed on top of each notebook. \n",
    "\n",
    "The `directory` is a non-required argument with the name of the folder in which the collection of all notebooks are expected to be. If `directory` is not given, it is assumed to be the current directory. "
   ]
  },
  {
   "cell_type": "markdown",
   "metadata": {},
   "source": [
    "<!--NAVIGATOR-->\n",
    "\n",
    "---\n",
    "[<- 2. Lecture: Creating the Table of Contents](02.00-Toc_creation.ipynb) | [Front page](00.00-Front_Page.ipynb) | [4. Lecture: Creating the navigators ->](04.00-Navigator_creation.ipynb)"
   ]
  }
 ],
 "metadata": {
  "kernelspec": {
   "display_name": "Python 3",
   "language": "python",
   "name": "python3"
  },
  "language_info": {
   "codemirror_mode": {
    "name": "ipython",
    "version": 3
   },
   "file_extension": ".py",
   "mimetype": "text/x-python",
   "name": "python",
   "nbconvert_exporter": "python",
   "pygments_lexer": "ipython3",
   "version": "3.7.1"
  }
 },
 "nbformat": 4,
 "nbformat_minor": 2
}
