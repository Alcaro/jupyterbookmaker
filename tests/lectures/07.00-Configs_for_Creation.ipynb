{
 "cells": [
  {
   "cell_type": "markdown",
   "metadata": {},
   "source": [
    "<!--HEADER-->\n",
    "*Test 3 for the jupyterbookmaker module*"
   ]
  },
  {
   "cell_type": "markdown",
   "metadata": {},
   "source": [
    "<!--NAVIGATOR-->\n",
    "\n",
    "[<- 1.5. Creating the book-like structure with all three elements](01.05-Book_creation.ipynb) | [Front page](00.00-Contents.ipynb) | [Bibliografia](BA.00-References.ipynb) | [1.7. Examples of configuration files ->](01.07-Example_configs.ipynb)\n",
    "\n",
    "---\n"
   ]
  },
  {
   "cell_type": "markdown",
   "metadata": {},
   "source": [
    "# Creating the book-like structure from a configuration file\n",
    "\n",
    "The easiest way to create/update the book-like structure of a collection of notebooks is by using a configuration file containing all the desired arguments (and elements).\n",
    "\n",
    "The configuration file is expected to be in the [YAML](https://en.wikipedia.org/wiki/YAML) format, which is a human-readable, text file, which easily stores strings, integers, floating point numbers, booleans, lists, and dictionaries (and more). It is parsed to python via the [PyYAML](https://pyyaml.org/) module."
   ]
  },
  {
   "cell_type": "markdown",
   "metadata": {},
   "source": [
    "The method `make_book_from_configfile(config_file)` expects the `config_file` to be parsed to a python dictionary with one or more of the following keys:\n",
    "- `makebook`\n",
    "- `contents`\n",
    "- `book_header`\n",
    "- `navbar`\n",
    "\n",
    "The value of each key is another dictionary, containing the parameters for the associated method."
   ]
  },
  {
   "cell_type": "markdown",
   "metadata": {},
   "source": [
    "The order of the main keys is not important. The module takes care of them regardless. There are some rules to follow:\n",
    "\n",
    "- If `makebook` is present, only the method `make_book()` is executed, with the parameters given in this key.\n",
    "- If `makebook` is not present, the other methods are executed, depending on whether the corresponding key is present, and in the following order: `add_contents()`, `add_book_header()`, and `add_navbars()`.\n",
    "- If neither `makebook`, nor `book_header` is present, a method is called to remove any header that was possibly added in a previous execution of the module.\n",
    "- If neither `makebook`, nor `navbar` is present, a method is called to remove any navigator cell that was possibly added in a previous execution of the module."
   ]
  },
  {
   "cell_type": "markdown",
   "metadata": {},
   "source": [
    "See the next section for examples of configuration files."
   ]
  },
  {
   "cell_type": "markdown",
   "metadata": {},
   "source": [
    "<!--NAVIGATOR-->\n",
    "\n",
    "---\n",
    "[<- 1.5. Creating the book-like structure with all three elements](01.05-Book_creation.ipynb) | [Front page](00.00-Contents.ipynb) | [Bibliografia](BA.00-References.ipynb) | [1.7. Examples of configuration files ->](01.07-Example_configs.ipynb)"
   ]
  }
 ],
 "metadata": {
  "kernelspec": {
   "display_name": "Python 3",
   "language": "python",
   "name": "python3"
  },
  "language_info": {
   "codemirror_mode": {
    "name": "ipython",
    "version": 3
   },
   "file_extension": ".py",
   "mimetype": "text/x-python",
   "name": "python",
   "nbconvert_exporter": "python",
   "pygments_lexer": "ipython3",
   "version": "3.7.1"
  }
 },
 "nbformat": 4,
 "nbformat_minor": 2
}
