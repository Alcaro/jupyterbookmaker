{
 "cells": [
  {
   "cell_type": "markdown",
   "metadata": {},
   "source": [
    "<!--HEADER-->\n",
    "*Header for the set of lecture notes in the jupyterbookmaker module*"
   ]
  },
  {
   "cell_type": "markdown",
   "metadata": {},
   "source": [
    "<!--NAVIGATOR-->\n",
    "\n",
    "[<- 6. Lecture: Creating the book-like structure from a configuration file](06.00-Configs_for_creation.ipynb) | [Front page](00.00-Front_Page.ipynb) | [8. Lecture: Running via a configuration file ->](08.00-Run_Config.ipynb)\n",
    "\n",
    "---\n"
   ]
  },
  {
   "cell_type": "markdown",
   "metadata": {},
   "source": [
    "# Lecture: Examples of configuration files\n",
    "\n",
    "Here is the configuration file used for this set of lecture notes."
   ]
  },
  {
   "cell_type": "markdown",
   "metadata": {},
   "source": [
    "## Config file\n",
    "\n",
    "```yaml\n",
    "book:\n",
    "  toc_nb_name : '00.00-Front_Page.ipynb'\n",
    "  header : \"*Header for the set of lecture notes in the jupyterbookmaker module*\"\n",
    "  core_navigators : \n",
    "    - '00.00-Front_Page.ipynb'\n",
    "  show_full_entry : True\n",
    "```"
   ]
  },
  {
   "cell_type": "markdown",
   "metadata": {},
   "source": [
    "<!--NAVIGATOR-->\n",
    "\n",
    "---\n",
    "[<- 6. Lecture: Creating the book-like structure from a configuration file](06.00-Configs_for_creation.ipynb) | [Front page](00.00-Front_Page.ipynb) | [8. Lecture: Running via a configuration file ->](08.00-Run_Config.ipynb)"
   ]
  }
 ],
 "metadata": {
  "kernelspec": {
   "display_name": "Python 3",
   "language": "python",
   "name": "python3"
  },
  "language_info": {
   "codemirror_mode": {
    "name": "ipython",
    "version": 3
   },
   "file_extension": ".py",
   "mimetype": "text/x-python",
   "name": "python",
   "nbconvert_exporter": "python",
   "pygments_lexer": "ipython3",
   "version": "3.7.1"
  }
 },
 "nbformat": 4,
 "nbformat_minor": 2
}
