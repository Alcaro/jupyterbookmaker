{
 "cells": [
  {
   "cell_type": "markdown",
   "metadata": {},
   "source": [
    "<!--HEADER-->\n",
    "*[Test 1 for the jupyterbookmaker module](https://github.com/rmsrosa/jupyterbookmaker)*"
   ]
  },
  {
   "cell_type": "markdown",
   "metadata": {},
   "source": [
    "<!--NAVIGATOR-->\n",
    "\n",
    "<a href=\"https://colab.research.google.com/github/rmsrosa/jupyterbookmaker/blob/master/notebooks/01.03-Header_creation.ipynb\"><img align=\"left\" src=\"https://colab.research.google.com/assets/colab-badge.svg\" alt=\"Open in Colab\" title=\"Open and Execute in Google Colaboratory\"></a>\n",
    "&nbsp;\n",
    "<a href=\"https://mybinder.org/v2/gh/rmsrosa/jupyterbookmaker/master?filepath=notebooks/01.03-Header_creation.ipynb\"><img align=\"left\" src=\"https://mybinder.org/badge.svg\" alt=\"Open in binder\" title=\"Open and Execute in Binder\"></a>\n",
    "&nbsp;\n",
    "\n",
    "[<- Creating the Table of Contents](01.02-Toc_creation.ipynb) | [Front page](00.00-Front_Page.ipynb) | [References](BA.00-References.ipynb) | [Creating the navigators ->](01.04-Navigator_creation.ipynb)\n",
    "\n",
    "---\n"
   ]
  },
  {
   "cell_type": "markdown",
   "metadata": {},
   "source": [
    "# Creating the headers\n",
    "\n",
    "The method to create, or update, the headers is called `add_headers()` and its definition starts with\n",
    "```python\n",
    "def add_headers(header, directory='.'):\n",
    "    ...\n",
    "```\n",
    "\n",
    "The argument `add_headers` is required and is a string with the header you want to be displayed on top of each notebook. \n",
    "\n",
    "The `directory` is a non-required argument with the name of the folder in which the collection of all notebooks are expected to be. If `directory` is not given, it is assumed to be the current directory. "
   ]
  },
  {
   "cell_type": "markdown",
   "metadata": {},
   "source": [
    "<!--NAVIGATOR-->\n",
    "\n",
    "---\n",
    "[<- Creating the Table of Contents](01.02-Toc_creation.ipynb) | [Front page](00.00-Front_Page.ipynb) | [References](BA.00-References.ipynb) | [Creating the navigators ->](01.04-Navigator_creation.ipynb)\n",
    "\n",
    "<a href=\"https://colab.research.google.com/github/rmsrosa/jupyterbookmaker/blob/master/notebooks/01.03-Header_creation.ipynb\"><img align=\"left\" src=\"https://colab.research.google.com/assets/colab-badge.svg\" alt=\"Open in Colab\" title=\"Open and Execute in Google Colaboratory\"></a>\n",
    "\n",
    "<a href=\"https://mybinder.org/v2/gh/rmsrosa/jupyterbookmaker/master?filepath=notebooks/01.03-Header_creation.ipynb\"><img align=\"left\" src=\"https://mybinder.org/badge.svg\" alt=\"Open in binder\" title=\"Open and Execute in Binder\"></a>\n",
    "&nbsp;"
   ]
  }
 ],
 "metadata": {
  "kernelspec": {
   "display_name": "Python 3",
   "language": "python",
   "name": "python3"
  },
  "language_info": {
   "codemirror_mode": {
    "name": "ipython",
    "version": 3
   },
   "file_extension": ".py",
   "mimetype": "text/x-python",
   "name": "python",
   "nbconvert_exporter": "python",
   "pygments_lexer": "ipython3",
   "version": "3.7.1"
  }
 },
 "nbformat": 4,
 "nbformat_minor": 2
}
