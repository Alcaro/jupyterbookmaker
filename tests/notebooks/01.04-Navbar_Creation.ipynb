{
 "cells": [
  {
   "cell_type": "markdown",
   "metadata": {},
   "source": [
    "<!--HEADER-->\n",
    "*[Test for the jupyterbookmaker module](https://github.com/rmsrosa/jupyterbookmaker)*"
   ]
  },
  {
   "cell_type": "markdown",
   "metadata": {},
   "source": [
    "<!--NAVIGATOR-->\n",
    "\n",
    "<a href=\"https://colab.research.google.com/github/rmsrosa/jupyterbookmaker/blob/master/notebooks/01.04-Navbar_Creation.ipynb\"><img align=\"left\" src=\"https://colab.research.google.com/assets/colab-badge.svg\" alt=\"Open in Colab\" title=\"Open and Execute in Google Colaboratory\"></a>\n",
    "&nbsp;\n",
    "<a href=\"https://mybinder.org/v2/gh/rmsrosa/jupyterbookmaker/master?filepath=notebooks/01.04-Navbar_Creation.ipynb\"><img align=\"left\" src=\"https://mybinder.org/badge.svg\" alt=\"Open in binder\" title=\"Open and Execute in Binder\"></a>\n",
    "&nbsp;\n",
    "\n",
    "[<- Creating the headers](01.03-Header_Creation.ipynb) | [Front page](00.00-Front_Page.ipynb) | [References](BA.00-References.ipynb) | [Creating the book-like structure with all three elements ->](01.05-Book_Creation.ipynb)\n",
    "\n",
    "---\n"
   ]
  },
  {
   "cell_type": "markdown",
   "metadata": {},
   "source": [
    "# Creating the navigators\n",
    "\n",
    "The method to create, or update, the navigator cells is called `add_navbars()` and its definition starts with\n",
    "```python\n",
    "def add_navbars(center_nav=[], directory='.', repository = '', branch = '', \n",
    "                show_colab=False, show_binder=False, \n",
    "                show_full_entry=True):\n",
    "    ...\n",
    "```\n",
    "\n",
    "There is no required argument. \n",
    "\n",
    "Here is an explanation of the non-required arguments:\n",
    "\n",
    "- `center_nav` is a list of strings, where each element is the filename of a Jupyter notebook that you to appear in the navigator bar, in between the *previous* and *next* notebooks. This is useful for direct links to the **Table of Contents** and the **Bibliography**, for instance. If it is not provided, it is assumed to be an empty list, and nothing is showed in between the links for the *previous* and *next* notebooks.\n",
    "\n",
    "- `directory`, as usual, is the name of the folder in which the collection of all notebooks are expected to be. If `directory` is not given, it is assumed to be the current directory.\n",
    "\n",
    "- `repository` is the name of the github repository which the notebooks belong to, if they do belong to one. It defaults to a blank string.\n",
    "\n",
    "- `branch` is the name of the associated branch in the github repository. It defaults to a blank string.\n",
    "\n",
    "- `show_colab` is a `boolean` argument informing the method whether to display the badge with the link to open up the notebook in [Google Colab](https://colab.research.google.com/notebooks/welcome.ipynb) environment in the \"cloud\". This works if the notebooks are in a github repository. It defaults to `False`.\n",
    "\n",
    "- `show_binder` is a `boolean` argument informing the method whether to display the badge with the link to open up the notebook in the [binder](https://mybinder.org/) environment in the \"cloud\". This works if the notebooks are in a github repository. It defaults to `False`.\n",
    "\n",
    "- `show_full_entry` indicates whether to display the chapter and section numbers in the navigation links along with the titles or just the titles. It defaults to `True`.\n",
    "\n",
    "The colab and binder links, when displayed, appear above the navigation bar in the top navigator cell and below the navigation bar in the bottom navigator cell."
   ]
  },
  {
   "cell_type": "markdown",
   "metadata": {},
   "source": [
    "<!--NAVIGATOR-->\n",
    "\n",
    "---\n",
    "[<- Creating the headers](01.03-Header_Creation.ipynb) | [Front page](00.00-Front_Page.ipynb) | [References](BA.00-References.ipynb) | [Creating the book-like structure with all three elements ->](01.05-Book_Creation.ipynb)\n",
    "\n",
    "<a href=\"https://colab.research.google.com/github/rmsrosa/jupyterbookmaker/blob/master/notebooks/01.04-Navbar_Creation.ipynb\"><img align=\"left\" src=\"https://colab.research.google.com/assets/colab-badge.svg\" alt=\"Open in Colab\" title=\"Open and Execute in Google Colaboratory\"></a>\n",
    "\n",
    "<a href=\"https://mybinder.org/v2/gh/rmsrosa/jupyterbookmaker/master?filepath=notebooks/01.04-Navbar_Creation.ipynb\"><img align=\"left\" src=\"https://mybinder.org/badge.svg\" alt=\"Open in binder\" title=\"Open and Execute in Binder\"></a>\n",
    "&nbsp;"
   ]
  }
 ],
 "metadata": {
  "kernelspec": {
   "display_name": "Python 3",
   "language": "python",
   "name": "python3"
  },
  "language_info": {
   "codemirror_mode": {
    "name": "ipython",
    "version": 3
   },
   "file_extension": ".py",
   "mimetype": "text/x-python",
   "name": "python",
   "nbconvert_exporter": "python",
   "pygments_lexer": "ipython3",
   "version": "3.7.1"
  }
 },
 "nbformat": 4,
 "nbformat_minor": 2
}
