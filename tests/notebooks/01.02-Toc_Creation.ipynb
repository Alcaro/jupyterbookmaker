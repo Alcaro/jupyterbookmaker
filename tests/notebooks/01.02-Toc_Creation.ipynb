{
 "cells": [
  {
   "cell_type": "markdown",
   "metadata": {},
   "source": [
    "<!--HEADER-->\n",
    "*[Test 1 for the jupyterbookmaker module](https://github.com/rmsrosa/jupyterbookmaker)*"
   ]
  },
  {
   "cell_type": "markdown",
   "metadata": {},
   "source": [
    "<!--NAVIGATOR-->\n",
    "\n",
    "<a href=\"https://colab.research.google.com/github/rmsrosa/jupyterbookmaker/blob/master/notebooks/01.02-Toc_creation.ipynb\"><img align=\"left\" src=\"https://colab.research.google.com/assets/colab-badge.svg\" alt=\"Open in Colab\" title=\"Open and Execute in Google Colaboratory\"></a>\n",
    "&nbsp;\n",
    "<a href=\"https://mybinder.org/v2/gh/rmsrosa/jupyterbookmaker/master?filepath=notebooks/01.02-Toc_creation.ipynb\"><img align=\"left\" src=\"https://mybinder.org/badge.svg\" alt=\"Open in binder\" title=\"Open and Execute in Binder\"></a>\n",
    "&nbsp;\n",
    "\n",
    "[<- Cell markers](01.01-Cell_markers.ipynb) | [Front page](00.00-Front_Page.ipynb) | [References](BA.00-References.ipynb) | [Creating the headers ->](01.03-Header_creation.ipynb)\n",
    "\n",
    "---\n"
   ]
  },
  {
   "cell_type": "markdown",
   "metadata": {},
   "source": [
    "# Creating the Table of Contents\n",
    "\n",
    "The method to create, or update, the table of contents is called `add_contents()` and its definition starts with\n",
    "```python\n",
    "def add_contents(toc_nb_name, directory='.'):\n",
    "    ...\n",
    "```\n",
    "The argument `toc_nb_name` is required and is the name of the jupyter notebook file in which the table of contents will be written. \n",
    "\n",
    "The `directory` is a non-required argument with the name of the folder in which both the `toc_nb_name` file and the collection of all notebooks to be listed in the table of contents are expected to be. If `directory` is not given, it is assumed to be the current directory. "
   ]
  },
  {
   "cell_type": "markdown",
   "metadata": {},
   "source": [
    "<!--NAVIGATOR-->\n",
    "\n",
    "---\n",
    "[<- Cell markers](01.01-Cell_markers.ipynb) | [Front page](00.00-Front_Page.ipynb) | [References](BA.00-References.ipynb) | [Creating the headers ->](01.03-Header_creation.ipynb)\n",
    "\n",
    "<a href=\"https://colab.research.google.com/github/rmsrosa/jupyterbookmaker/blob/master/notebooks/01.02-Toc_creation.ipynb\"><img align=\"left\" src=\"https://colab.research.google.com/assets/colab-badge.svg\" alt=\"Open in Colab\" title=\"Open and Execute in Google Colaboratory\"></a>\n",
    "\n",
    "<a href=\"https://mybinder.org/v2/gh/rmsrosa/jupyterbookmaker/master?filepath=notebooks/01.02-Toc_creation.ipynb\"><img align=\"left\" src=\"https://mybinder.org/badge.svg\" alt=\"Open in binder\" title=\"Open and Execute in Binder\"></a>\n",
    "&nbsp;"
   ]
  }
 ],
 "metadata": {
  "kernelspec": {
   "display_name": "Python 3",
   "language": "python",
   "name": "python3"
  },
  "language_info": {
   "codemirror_mode": {
    "name": "ipython",
    "version": 3
   },
   "file_extension": ".py",
   "mimetype": "text/x-python",
   "name": "python",
   "nbconvert_exporter": "python",
   "pygments_lexer": "ipython3",
   "version": "3.7.1"
  }
 },
 "nbformat": 4,
 "nbformat_minor": 2
}
