{
 "cells": [
  {
   "cell_type": "markdown",
   "metadata": {},
   "source": [
    "<!--BOOK_INFORMATION-->\n",
    "*[Test 1 for the jupyterbookmaker module](https://github.com/rmsrosa/jupyterbookmaker)*"
   ]
  },
  {
   "cell_type": "markdown",
   "metadata": {},
   "source": [
    "<!--NAVIGATION-->\n",
    "\n",
    "[<- 3.1. Ajuste de dados](03.01-Ajuste_de_dados.ipynb) | [Índice de conteúdo](00.00-Indice.ipynb) | [Bibliografia](BA.00-Bibliografia.ipynb) | [3.3. Exemplos simples ->](03.03-Exemplos_simples.ipynb)\n",
    "\n",
    "---\n"
   ]
  },
  {
   "cell_type": "markdown",
   "metadata": {},
   "source": [
    "<!--BOOK_INFORMATION-->Test 3 for the jupyterbookmaker module"
   ]
  },
  {
   "cell_type": "markdown",
   "metadata": {},
   "source": [
    "<!--NAVIGATION-->\n",
    "\n",
    "[<- 3.1. Ajuste de dados](03.01-Ajuste_de_dados.ipynb) | [Índice de conteúdo](00.00-Indice.ipynb) | [Bibliografia](BA.00-Bibliografia.ipynb) | [3.3. Exemplos simples ->](03.03-Exemplos_simples.ipynb)\n",
    "\n",
    "---\n"
   ]
  },
  {
   "cell_type": "markdown",
   "metadata": {},
   "source": [
    "# Critérios de informação e a escolha do modelo"
   ]
  },
  {
   "cell_type": "markdown",
   "metadata": {},
   "source": [
    "## O critério de informação de Akaike (AIC)"
   ]
  },
  {
   "cell_type": "markdown",
   "metadata": {},
   "source": [
    "##  O critério de informação Bayesiano (BIC)"
   ]
  },
  {
   "cell_type": "markdown",
   "metadata": {},
   "source": [
    "<!--NAVIGATION-->\n",
    "\n",
    "---\n",
    "[<- 3.1. Ajuste de dados](03.01-Ajuste_de_dados.ipynb) | [Índice de conteúdo](00.00-Indice.ipynb) | [Bibliografia](BA.00-Bibliografia.ipynb) | [3.3. Exemplos simples ->](03.03-Exemplos_simples.ipynb)"
   ]
  }
 ],
 "metadata": {
  "kernelspec": {
   "display_name": "Python 3",
   "language": "python",
   "name": "python3"
  },
  "language_info": {
   "codemirror_mode": {
    "name": "ipython",
    "version": 3
   },
   "file_extension": ".py",
   "mimetype": "text/x-python",
   "name": "python",
   "nbconvert_exporter": "python",
   "pygments_lexer": "ipython3",
   "version": "3.7.1"
  }
 },
 "nbformat": 4,
 "nbformat_minor": 2
}
