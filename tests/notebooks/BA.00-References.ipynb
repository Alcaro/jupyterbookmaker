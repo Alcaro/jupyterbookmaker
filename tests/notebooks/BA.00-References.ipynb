{
 "cells": [
  {
   "cell_type": "markdown",
   "metadata": {},
   "source": [
    "<!--HEADER-->\n",
    "*[Test for the jupyterbookmaker module](https://github.com/rmsrosa/jupyterbookmaker)*"
   ]
  },
  {
   "cell_type": "markdown",
   "metadata": {},
   "source": [
    "<!--NAVIGATOR-->\n",
    "\n",
    "<a href=\"https://colab.research.google.com/github/rmsrosa/jupyterbookmaker/blob/master/notebooks/BA.00-References.ipynb\"><img align=\"left\" src=\"https://colab.research.google.com/assets/colab-badge.svg\" alt=\"Open in Colab\" title=\"Open and Execute in Google Colaboratory\"></a>\n",
    "&nbsp;\n",
    "<a href=\"https://mybinder.org/v2/gh/rmsrosa/jupyterbookmaker/master?filepath=notebooks/BA.00-References.ipynb\"><img align=\"left\" src=\"https://mybinder.org/badge.svg\" alt=\"Open in binder\" title=\"Open and Execute in Binder\"></a>\n",
    "&nbsp;\n",
    "\n",
    "[<- Run it as a script](03.00-As_script.ipynb) | [Front page](00.00-Front_Page.ipynb) | [References](BA.00-References.ipynb) \n",
    "\n",
    "---\n"
   ]
  },
  {
   "cell_type": "markdown",
   "metadata": {},
   "source": [
    "# References\n",
    "\n",
    "- N. Bellomo, E. De Angelis, & M. Delitala (2007), Lecture Notes on Mathematical Modelling in Applied Sciences.\n",
    "- E. A. Bender (1978), An Introduction to Mathematical Modeling. John Wiley & Sons. \n",
    "- J. Caldwell & D. K. S. Ng (2004), Mathematical Modelling. Case Studies and Projects, Kluwer Academic Publishers.\n",
    "- C. L. Dym (2004), An Introduction to Mathematical Modeling. 2nd Edition. Academic Press. \n",
    "- S. Howison (2005), Practical Applied Mathematics: Modelling, Analysis, Approximation. Cambridge Texts in Applied Mathematics (Book 38), Cambridge University Press.\n",
    "- G. Ledder (2013), Mathematics for the Life Sciences: Calculus, Modeling, Probability, and Dynamical Systems, Springer.\n",
    "- G. Marion (2008), An Introduction to Mathematical Modelling, [notas de aula](https://people.maths.bris.ac.uk/~madjl/course_text.pdf).\n",
    "- M. Mesterton-Gibbons (2007), A Concrete Approach to Mathematical Modelling. John Wiley & Sons, Inc."
   ]
  },
  {
   "cell_type": "markdown",
   "metadata": {},
   "source": [
    "<!--NAVIGATOR-->\n",
    "\n",
    "---\n",
    "[<- Run it as a script](03.00-As_script.ipynb) | [Front page](00.00-Front_Page.ipynb) | [References](BA.00-References.ipynb) \n",
    "\n",
    "<a href=\"https://colab.research.google.com/github/rmsrosa/jupyterbookmaker/blob/master/notebooks/BA.00-References.ipynb\"><img align=\"left\" src=\"https://colab.research.google.com/assets/colab-badge.svg\" alt=\"Open in Colab\" title=\"Open and Execute in Google Colaboratory\"></a>\n",
    "\n",
    "<a href=\"https://mybinder.org/v2/gh/rmsrosa/jupyterbookmaker/master?filepath=notebooks/BA.00-References.ipynb\"><img align=\"left\" src=\"https://mybinder.org/badge.svg\" alt=\"Open in binder\" title=\"Open and Execute in Binder\"></a>\n",
    "&nbsp;"
   ]
  }
 ],
 "metadata": {
  "kernelspec": {
   "display_name": "Python 3",
   "language": "python",
   "name": "python3"
  },
  "language_info": {
   "codemirror_mode": {
    "name": "ipython",
    "version": 3
   },
   "file_extension": ".py",
   "mimetype": "text/x-python",
   "name": "python",
   "nbconvert_exporter": "python",
   "pygments_lexer": "ipython3",
   "version": "3.7.1"
  }
 },
 "nbformat": 4,
 "nbformat_minor": 2
}
