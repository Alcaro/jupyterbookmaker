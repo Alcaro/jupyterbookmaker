{
 "cells": [
  {
   "cell_type": "markdown",
   "metadata": {},
   "source": [
    "# Create the Book Structure from a non-indexed file\n",
    "\n",
    "The current file is not index, so it will not appear in the Table of Contents and will not have a header and navigation bars. It is for \"internal\" use, simply to construct the book-like structure. We do as in the Section [Running via a configuration file](02.01-Run_Config.ipynb)."
   ]
  },
  {
   "cell_type": "code",
   "execution_count": 2,
   "metadata": {},
   "outputs": [],
   "source": [
    "import os\n",
    "import sys\n",
    "\n",
    "sys.path.insert(0, os.path.abspath(os.path.join(os.getcwd(), '../..')))\n",
    "\n",
    "import jupyterbookmaker as jbm"
   ]
  },
  {
   "cell_type": "markdown",
   "metadata": {},
   "source": [
    "This time, though, we use a configuration file in this same folder. So we don't change the folder and go directly to create the book-like structure:"
   ]
  },
  {
   "cell_type": "code",
   "execution_count": 3,
   "metadata": {},
   "outputs": [
    {
     "name": "stdout",
     "output_type": "stream",
     "text": [
      "Table of contents inserted in 00.00-Front_Page.ipynb\n",
      "- inserting header for 00.00-Front_Page.ipynb\n",
      "- inserting header for 00.01-Preface.ipynb\n",
      "- inserting header for 00.90-Introduction.ipynb\n",
      "- inserting header for 01.00-Methods_and_parameters.ipynb\n",
      "- inserting header for 01.01-Cell_Markers.ipynb\n",
      "- inserting header for 01.02-Toc_Creation.ipynb\n",
      "- inserting header for 01.03-Header_Creation.ipynb\n",
      "- inserting header for 01.04-Navbar_Creation.ipynb\n",
      "- inserting header for 01.05-Book_Creation.ipynb\n",
      "- inserting header for 01.06-Configs_for_Creation.ipynb\n",
      "- inserting header for 01.07-Example_Configs.ipynb\n",
      "- inserting header for 02.00-Run_as_Module.ipynb\n",
      "- inserting header for 02.01-Run_Config.ipynb\n",
      "- inserting header for 02.02-Run_Methods.ipynb\n",
      "- inserting header for 03.00-As_script.ipynb\n",
      "- inserting header for BA.00-References.ipynb\n",
      "- inserting navbar for 00.00-Front_Page.ipynb\n",
      "- inserting navbar for 00.01-Preface.ipynb\n",
      "- inserting navbar for 00.90-Introduction.ipynb\n",
      "- inserting navbar for 01.00-Methods_and_parameters.ipynb\n",
      "- inserting navbar for 01.01-Cell_Markers.ipynb\n",
      "- inserting navbar for 01.02-Toc_Creation.ipynb\n",
      "- inserting navbar for 01.03-Header_Creation.ipynb\n",
      "- inserting navbar for 01.04-Navbar_Creation.ipynb\n",
      "- inserting navbar for 01.05-Book_Creation.ipynb\n",
      "- inserting navbar for 01.06-Configs_for_Creation.ipynb\n",
      "- inserting navbar for 01.07-Example_Configs.ipynb\n",
      "- inserting navbar for 02.00-Run_as_Module.ipynb\n",
      "- inserting navbar for 02.01-Run_Config.ipynb\n",
      "- inserting navbar for 02.02-Run_Methods.ipynb\n",
      "- inserting navbar for 03.00-As_script.ipynb\n",
      "- inserting navbar for BA.00-References.ipynb\n"
     ]
    }
   ],
   "source": [
    "jbm.make_book_from_configfile('config.yml')"
   ]
  },
  {
   "cell_type": "markdown",
   "metadata": {},
   "source": [
    "And voilà!"
   ]
  }
 ],
 "metadata": {
  "kernelspec": {
   "display_name": "Python 3",
   "language": "python",
   "name": "python3"
  },
  "language_info": {
   "codemirror_mode": {
    "name": "ipython",
    "version": 3
   },
   "file_extension": ".py",
   "mimetype": "text/x-python",
   "name": "python",
   "nbconvert_exporter": "python",
   "pygments_lexer": "ipython3",
   "version": "3.7.1"
  }
 },
 "nbformat": 4,
 "nbformat_minor": 2
}
