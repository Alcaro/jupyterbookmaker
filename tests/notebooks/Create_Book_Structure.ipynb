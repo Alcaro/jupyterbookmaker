{
 "cells": [
  {
   "cell_type": "markdown",
   "metadata": {},
   "source": [
    "# Create the Book Structure from a Non-Indexed File\n",
    "\n",
    "The current file is not index, so it will not appear in the Table of Contents and will not have a header and navigation bars. It is for \"internal\" use, simply to construct the book-like structure. We do as in the Section [Running via configuration file](02.01-Run_with_config.ipynb).\n",
    "\n",
    "If the `jupyterbookmaker` package is installed in the environment, just import it with as usual, otherwise, it is assumed this set of notebooks is two subdirectories down in the `jupyterbookmaker` package, so it can be imported with a relative path:"
   ]
  },
  {
   "cell_type": "code",
   "execution_count": 1,
   "metadata": {},
   "outputs": [],
   "source": [
    "try:\n",
    "    import jupyterbookmaker as jbm\n",
    "    \n",
    "except:\n",
    "    import os\n",
    "    import sys\n",
    "    \n",
    "    sys.path.insert(0, os.path.abspath(os.path.join(os.getcwd(), '../..')))\n",
    "    \n",
    "    import jupyterbookmaker as jbm"
   ]
  },
  {
   "cell_type": "markdown",
   "metadata": {},
   "source": [
    "This time, though, we use a configuration file in this same folder. So we don't change the folder and go directly to create the book-like structure:"
   ]
  },
  {
   "cell_type": "code",
   "execution_count": 2,
   "metadata": {},
   "outputs": [
    {
     "name": "stdout",
     "output_type": "stream",
     "text": [
      "Table of contents inserted in 00.00-Front_Page.ipynb\n",
      "- amending header for 00.00-Front_Page.ipynb\n",
      "- amending header for 00.01-Preface.ipynb\n",
      "- amending header for 00.90-Introduction.ipynb\n",
      "- amending header for 01.00-Methods_and_parameters.ipynb\n",
      "- amending header for 01.01-Cell_markers.ipynb\n",
      "- amending header for 01.02-Toc_creation.ipynb\n",
      "- amending header for 01.03-Header_creation.ipynb\n",
      "- amending header for 01.04-Navigator_creation.ipynb\n",
      "- amending header for 01.05-Book_creation.ipynb\n",
      "- amending header for 01.06-Configs_for_creation.ipynb\n",
      "- amending header for 01.07-Example_configs.ipynb\n",
      "- amending header for 02.00-Run_as_Module.ipynb\n",
      "- amending header for 02.01-Run_with_config.ipynb\n",
      "- amending header for 02.02-Run_with_arguments.ipynb\n",
      "- amending header for 03.00-Run_as_Script.ipynb\n",
      "- amending header for BA.00-References.ipynb\n",
      "- amending navbar for 00.00-Front_Page.ipynb\n",
      "- amending navbar for 00.01-Preface.ipynb\n",
      "- amending navbar for 00.90-Introduction.ipynb\n",
      "- amending navbar for 01.00-Methods_and_parameters.ipynb\n",
      "- amending navbar for 01.01-Cell_markers.ipynb\n",
      "- amending navbar for 01.02-Toc_creation.ipynb\n",
      "- amending navbar for 01.03-Header_creation.ipynb\n",
      "- amending navbar for 01.04-Navigator_creation.ipynb\n",
      "- amending navbar for 01.05-Book_creation.ipynb\n",
      "- amending navbar for 01.06-Configs_for_creation.ipynb\n",
      "- amending navbar for 01.07-Example_configs.ipynb\n",
      "- amending navbar for 02.00-Run_as_Module.ipynb\n",
      "- amending navbar for 02.01-Run_with_config.ipynb\n",
      "- amending navbar for 02.02-Run_with_arguments.ipynb\n",
      "- amending navbar for 03.00-Run_as_Script.ipynb\n",
      "- amending navbar for BA.00-References.ipynb\n"
     ]
    }
   ],
   "source": [
    "jbm.make_book_from_configfile('config.yml')"
   ]
  },
  {
   "cell_type": "markdown",
   "metadata": {},
   "source": [
    "And voilà!"
   ]
  }
 ],
 "metadata": {
  "kernelspec": {
   "display_name": "Python 3",
   "language": "python",
   "name": "python3"
  },
  "language_info": {
   "codemirror_mode": {
    "name": "ipython",
    "version": 3
   },
   "file_extension": ".py",
   "mimetype": "text/x-python",
   "name": "python",
   "nbconvert_exporter": "python",
   "pygments_lexer": "ipython3",
   "version": "3.7.1"
  }
 },
 "nbformat": 4,
 "nbformat_minor": 2
}
