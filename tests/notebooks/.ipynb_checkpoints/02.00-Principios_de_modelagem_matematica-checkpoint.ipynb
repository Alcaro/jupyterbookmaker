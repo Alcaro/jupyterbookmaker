{
 "cells": [
  {
   "cell_type": "markdown",
   "metadata": {},
   "source": [
    "<!--BOOK_INFORMATION-->\n",
    "*[Test 1 for the jupyterbookmaker module](https://github.com/rmsrosa/jupyterbookmaker)*"
   ]
  },
  {
   "cell_type": "markdown",
   "metadata": {},
   "source": [
    "<!--NAVIGATION-->\n",
    "\n",
    "<a href=\"https://colab.research.google.com/github/rmsrosa/jupyterbookmaker/blob/master/notebooks/02.00-Principios_de_modelagem_matematica.ipynb\"><img align=\"left\" src=\"https://colab.research.google.com/assets/colab-badge.svg\" alt=\"Open in Colab\" title=\"Open and Execute in Google Colaboratory\"></a>\n",
    "&nbsp;\n",
    "<a href=\"https://mybinder.org/v2/gh/rmsrosa/jupyterbookmaker/master?filepath=notebooks/02.00-Principios_de_modelagem_matematica.ipynb\"><img align=\"left\" src=\"https://mybinder.org/badge.svg\" alt=\"Open in binder\" title=\"Open and Execute in Binder\"></a>\n",
    "&nbsp;\n",
    "\n",
    "[<- [1.7. Boas práticas em python](01.07-Boas_praticas_em_python.ipynb)](01.07-Boas_praticas_em_python.ipynb) | [Índice](00.00-Indice.ipynb) | [Bibliografia](BA.00-Bibliografia.ipynb) | [[2.1. Modelos como aproximação da realidade](02.01-Modelos_como_aproximacao_da_realidade.ipynb) ->](02.01-Modelos_como_aproximacao_da_realidade.ipynb)\n",
    "\n",
    "---\n"
   ]
  },
  {
   "cell_type": "markdown",
   "metadata": {},
   "source": [
    "# Princípios de modelagem matemática\n",
    "\n",
    "Neste capítulo, começaremos com uma discussão sobre modelagem, ressaltando que modelos são aproximações da realidade e que é importante ter isso em mente ao se interpretar os resultados do modelo.  Em seguida falaremos dos tipos de fenômenos e de algumas formas de modelagem.\n",
    "\n",
    "<p style=\"margin-bottom:15cm;\"></p>"
   ]
  },
  {
   "cell_type": "markdown",
   "metadata": {},
   "source": [
    "<!--NAVIGATION-->\n",
    "\n",
    "---\n",
    "[<- [1.7. Boas práticas em python](01.07-Boas_praticas_em_python.ipynb)](01.07-Boas_praticas_em_python.ipynb) | [Índice](00.00-Indice.ipynb) | [Bibliografia](BA.00-Bibliografia.ipynb) | [[2.1. Modelos como aproximação da realidade](02.01-Modelos_como_aproximacao_da_realidade.ipynb) ->](02.01-Modelos_como_aproximacao_da_realidade.ipynb)\n",
    "\n",
    "<a href=\"https://colab.research.google.com/github/rmsrosa/jupyterbookmaker/blob/master/notebooks/02.00-Principios_de_modelagem_matematica.ipynb\"><img align=\"left\" src=\"https://colab.research.google.com/assets/colab-badge.svg\" alt=\"Open in Colab\" title=\"Open and Execute in Google Colaboratory\"></a>\n",
    "\n",
    "<a href=\"https://mybinder.org/v2/gh/rmsrosa/jupyterbookmaker/master?filepath=notebooks/02.00-Principios_de_modelagem_matematica.ipynb\"><img align=\"left\" src=\"https://mybinder.org/badge.svg\" alt=\"Open in binder\" title=\"Open and Execute in Binder\"></a>\n",
    "&nbsp;"
   ]
  }
 ],
 "metadata": {
  "kernelspec": {
   "display_name": "Py36 SfePy env",
   "language": "python",
   "name": "py36sfepy"
  },
  "language_info": {
   "codemirror_mode": {
    "name": "ipython",
    "version": 3
   },
   "file_extension": ".py",
   "mimetype": "text/x-python",
   "name": "python",
   "nbconvert_exporter": "python",
   "pygments_lexer": "ipython3",
   "version": "3.6.7"
  }
 },
 "nbformat": 4,
 "nbformat_minor": 2
}
