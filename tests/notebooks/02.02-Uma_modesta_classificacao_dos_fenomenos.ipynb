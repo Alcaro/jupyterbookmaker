{
 "cells": [
  {
   "cell_type": "markdown",
   "metadata": {},
   "source": [
    "<!--BOOK_INFORMATION-->\n",
    "*[Test 1 for the jupyterbookmaker module](https://github.com/rmsrosa/jupyterbookmaker)*"
   ]
  },
  {
   "cell_type": "markdown",
   "metadata": {},
   "source": [
    "<!--NAVIGATION-->\n",
    "\n",
    "[<- 2.1. Modelos como aproximação da realidade](02.01-Modelos_como_aproximacao_da_realidade.ipynb) | [Índice de conteúdo](00.00-Indice.ipynb) | [Bibliografia](BA.00-Bibliografia.ipynb) | [2.3. Formas de modelagens ->](02.03-Formas_de_modelagens.ipynb)\n",
    "\n",
    "---\n"
   ]
  },
  {
   "cell_type": "markdown",
   "metadata": {},
   "source": [
    "<!--BOOK_INFORMATION-->Test 3 for the jupyterbookmaker module"
   ]
  },
  {
   "cell_type": "markdown",
   "metadata": {},
   "source": [
    "<!--NAVIGATION-->\n",
    "\n",
    "[<- 2.1. Modelos como aproximação da realidade](02.01-Modelos_como_aproximacao_da_realidade.ipynb) | [Índice de conteúdo](00.00-Indice.ipynb) | [Bibliografia](BA.00-Bibliografia.ipynb) | [2.3. Formas de modelagens ->](02.03-Formas_de_modelagens.ipynb)\n",
    "\n",
    "---\n"
   ]
  },
  {
   "cell_type": "markdown",
   "metadata": {},
   "source": [
    "# Uma modesta classificação dos fenômenos\n",
    "\n",
    "## Por escalas\n",
    "\n",
    "- Microscópicos\n",
    "- Mesoscópicos\n",
    "- Macroscópicos\n",
    "- Multi-escalas\n",
    "\n",
    "### Pela natureza do fenômeno\n",
    "\n",
    "- Físicos\n",
    "- Químicos\n",
    "- Biológicos\n",
    "- Bioquímicos\n",
    "- Complexos"
   ]
  },
  {
   "cell_type": "markdown",
   "metadata": {},
   "source": [
    "<!--NAVIGATION-->\n",
    "\n",
    "---\n",
    "[<- 2.1. Modelos como aproximação da realidade](02.01-Modelos_como_aproximacao_da_realidade.ipynb) | [Índice de conteúdo](00.00-Indice.ipynb) | [Bibliografia](BA.00-Bibliografia.ipynb) | [2.3. Formas de modelagens ->](02.03-Formas_de_modelagens.ipynb)"
   ]
  }
 ],
 "metadata": {
  "kernelspec": {
   "display_name": "Python 3",
   "language": "python",
   "name": "python3"
  },
  "language_info": {
   "codemirror_mode": {
    "name": "ipython",
    "version": 3
   },
   "file_extension": ".py",
   "mimetype": "text/x-python",
   "name": "python",
   "nbconvert_exporter": "python",
   "pygments_lexer": "ipython3",
   "version": "3.7.1"
  }
 },
 "nbformat": 4,
 "nbformat_minor": 2
}
