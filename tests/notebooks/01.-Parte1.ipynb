{
 "cells": [
  {
   "cell_type": "markdown",
   "metadata": {},
   "source": [
    "<!--BOOK_INFORMATION-->\n",
    "*[Test 1 for the jupyterbookmaker module](https://github.com/rmsrosa/jupyterbookmaker)*"
   ]
  },
  {
   "cell_type": "markdown",
   "metadata": {},
   "source": [
    "<!--NAVIGATION-->\n",
    "\n",
    "[<- Introdução](00.90-Introducao.ipynb) | [Índice de conteúdo](00.00-Indice.ipynb) | [Bibliografia](BA.00-Bibliografia.ipynb) | [1. Destino, Jupyter! ->](01.00-Destino_Jupyter.ipynb)\n",
    "\n",
    "---\n"
   ]
  },
  {
   "cell_type": "markdown",
   "metadata": {},
   "source": [
    "<!--BOOK_INFORMATION-->Test 3 for the jupyterbookmaker module"
   ]
  },
  {
   "cell_type": "markdown",
   "metadata": {},
   "source": [
    "<!--NAVIGATION-->\n",
    "\n",
    "[<- Introdução](00.90-Introducao.ipynb) | [Índice de conteúdo](00.00-Indice.ipynb) | [Bibliografia](BA.00-Bibliografia.ipynb) | [1. Destino, Jupyter! ->](01.00-Destino_Jupyter.ipynb)\n",
    "\n",
    "---\n"
   ]
  },
  {
   "cell_type": "markdown",
   "metadata": {},
   "source": [
    "# PARTE I - Aspectos Iniciais\n",
    "\n",
    "<p style=\"margin-bottom:20cm;\"></p>"
   ]
  },
  {
   "cell_type": "markdown",
   "metadata": {},
   "source": [
    "<!--NAVIGATION-->\n",
    "\n",
    "---\n",
    "[<- Introdução](00.90-Introducao.ipynb) | [Índice de conteúdo](00.00-Indice.ipynb) | [Bibliografia](BA.00-Bibliografia.ipynb) | [1. Destino, Jupyter! ->](01.00-Destino_Jupyter.ipynb)"
   ]
  }
 ],
 "metadata": {
  "kernelspec": {
   "display_name": "Python 3",
   "language": "python",
   "name": "python3"
  },
  "language_info": {
   "codemirror_mode": {
    "name": "ipython",
    "version": 3
   },
   "file_extension": ".py",
   "mimetype": "text/x-python",
   "name": "python",
   "nbconvert_exporter": "python",
   "pygments_lexer": "ipython3",
   "version": "3.7.1"
  }
 },
 "nbformat": 4,
 "nbformat_minor": 2
}
