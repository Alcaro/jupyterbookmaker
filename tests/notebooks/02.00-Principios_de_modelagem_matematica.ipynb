{
 "cells": [
  {
   "cell_type": "markdown",
   "metadata": {},
   "source": [
    "<!--BOOK_INFORMATION-->\n",
    "*[Test 1 for the jupyterbookmaker module](https://github.com/rmsrosa/jupyterbookmaker)*"
   ]
  },
  {
   "cell_type": "markdown",
   "metadata": {},
   "source": [
    "<!--NAVIGATION-->\n",
    "\n",
    "[<- 1.6. Boas práticas em python](01.06-Boas_praticas_em_python.ipynb) | [Índice de conteúdo](00.00-Indice.ipynb) | [Bibliografia](BA.00-Bibliografia.ipynb) | [2.1. Modelos como aproximação da realidade ->](02.01-Modelos_como_aproximacao_da_realidade.ipynb)\n",
    "\n",
    "---\n"
   ]
  },
  {
   "cell_type": "markdown",
   "metadata": {},
   "source": [
    "<!--BOOK_INFORMATION-->Test 3 for the jupyterbookmaker module"
   ]
  },
  {
   "cell_type": "markdown",
   "metadata": {},
   "source": [
    "<!--NAVIGATION-->\n",
    "\n",
    "[<- 1.7. Boas práticas em python](01.07-Boas_praticas_em_python.ipynb) | [Índice de conteúdo](00.00-Indice.ipynb) | [Bibliografia](BA.00-Bibliografia.ipynb) | [2.1. Modelos como aproximação da realidade ->](02.01-Modelos_como_aproximacao_da_realidade.ipynb)\n",
    "\n",
    "---\n"
   ]
  },
  {
   "cell_type": "markdown",
   "metadata": {},
   "source": [
    "# Princípios de modelagem matemática\n",
    "\n",
    "Neste capítulo, começaremos com uma discussão sobre modelagem, ressaltando que modelos são aproximações da realidade e que é importante ter isso em mente ao se interpretar os resultados do modelo.  Em seguida falaremos dos tipos de fenômenos e de algumas formas de modelagem.\n",
    "\n",
    "<p style=\"margin-bottom:15cm;\"></p>"
   ]
  },
  {
   "cell_type": "markdown",
   "metadata": {},
   "source": [
    "<!--NAVIGATION-->\n",
    "\n",
    "---\n",
    "[<- 1.6. Boas práticas em python](01.06-Boas_praticas_em_python.ipynb) | [Índice de conteúdo](00.00-Indice.ipynb) | [Bibliografia](BA.00-Bibliografia.ipynb) | [2.1. Modelos como aproximação da realidade ->](02.01-Modelos_como_aproximacao_da_realidade.ipynb)"
   ]
  }
 ],
 "metadata": {
  "kernelspec": {
   "display_name": "Py36 SfePy env",
   "language": "python",
   "name": "py36sfepy"
  },
  "language_info": {
   "codemirror_mode": {
    "name": "ipython",
    "version": 3
   },
   "file_extension": ".py",
   "mimetype": "text/x-python",
   "name": "python",
   "nbconvert_exporter": "python",
   "pygments_lexer": "ipython3",
   "version": "3.6.7"
  }
 },
 "nbformat": 4,
 "nbformat_minor": 2
}
