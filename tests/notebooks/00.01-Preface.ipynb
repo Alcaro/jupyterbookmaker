{
 "cells": [
  {
   "cell_type": "markdown",
   "metadata": {},
   "source": [
    "<!--HEADER-->\n",
    "*[Header for the notebooks in the jupyterbookmaker module](https://github.com/rmsrosa/jupyterbookmaker)*"
   ]
  },
  {
   "cell_type": "markdown",
   "metadata": {},
   "source": [
    "<!--NAVIGATOR-->\n",
    "\n",
    "<a href=\"https://colab.research.google.com/github/rmsrosa/jupyterbookmaker/blob/master/tests/notebooks/00.01-Preface.ipynb\" target=\"_blank\"><img align=\"left\" src=\"https://colab.research.google.com/assets/colab-badge.svg\" alt=\"Open in Colab\" title=\"Open and Execute in Google Colaboratory\"></a>\n",
    "&nbsp;\n",
    "<a href=\"https://mybinder.org/v2/gh/rmsrosa/jupyterbookmaker/master?filepath=tests/notebooks/00.01-Preface.ipynb\" target=\"_blank\"><img align=\"left\" src=\"https://mybinder.org/badge.svg\" alt=\"Open in binder\" title=\"Open and Execute in Binder\"></a>\n",
    "&nbsp;\n",
    "\n",
    "[<- Front page](00.00-Front_Page.ipynb) | [Front page](00.00-Front_Page.ipynb) | [References](BA.00-References.ipynb) | [Introduction ->](00.90-Introduction.ipynb)\n",
    "\n",
    "---\n"
   ]
  },
  {
   "cell_type": "markdown",
   "metadata": {},
   "source": [
    "# Preface\n",
    "\n",
    "The idea for this `jupyterbookmaker` package came when I started to write the set of jupyter notebooks for a \"Mathematical Modeling\" class at the [Instituto de Matemática](http://www.im.ufrj.br/) of the [Universidade Federal do Rio de Janeiro (UFRJ)](https://ufrj.br/).\n",
    "\n",
    "As the notebooks grew in number, managing a table of contents became important. I was planing to write my own \"bookmaker\" code, but then I stumbled upon this [Python Data Science Handbook](https://github.com/jakevdp/PythonDataScienceHandbook), by [Jake VanderPlas](http://vanderplas.com/), which not only contained a code to automatically generate a **Table of Contents** from a directory containing notebooks, but also added **navigator** cells and a **header** to each notebook.\n",
    "\n",
    "First, I used his coded to apply to my notes, but then I realized I could adjust the code to make it much more flexible. So I did, and this became my first package to be released at [PyPi](https://pypi.org/). I hope other people find it useful and let me know how I can improve it.\n",
    "\n",
    "\n",
    "Rio de Janeiro, March 11, 2019,\n",
    "\n",
    "[Ricardo M. S. Rosa](http://www.dma.im.ufrj.br/~rrosa)"
   ]
  },
  {
   "cell_type": "markdown",
   "metadata": {},
   "source": [
    "<!--NAVIGATOR-->\n",
    "\n",
    "---\n",
    "[<- Front page](00.00-Front_Page.ipynb) | [Front page](00.00-Front_Page.ipynb) | [References](BA.00-References.ipynb) | [Introduction ->](00.90-Introduction.ipynb)\n",
    "\n",
    "<a href=\"https://colab.research.google.com/github/rmsrosa/jupyterbookmaker/blob/master/tests/notebooks/00.01-Preface.ipynb\" target=\"_blank\"><img align=\"left\" src=\"https://colab.research.google.com/assets/colab-badge.svg\" alt=\"Open in Colab\" title=\"Open and Execute in Google Colaboratory\"></a>\n",
    "\n",
    "<a href=\"https://mybinder.org/v2/gh/rmsrosa/jupyterbookmaker/master?filepath=tests/notebooks/00.01-Preface.ipynb\" target=\"_blank\"><img align=\"left\" src=\"https://mybinder.org/badge.svg\" alt=\"Open in binder\" title=\"Open and Execute in Binder\"></a>\n",
    "&nbsp;"
   ]
  }
 ],
 "metadata": {
  "kernelspec": {
   "display_name": "Python 3",
   "language": "python",
   "name": "python3"
  },
  "language_info": {
   "codemirror_mode": {
    "name": "ipython",
    "version": 3
   },
   "file_extension": ".py",
   "mimetype": "text/x-python",
   "name": "python",
   "nbconvert_exporter": "python",
   "pygments_lexer": "ipython3",
   "version": "3.7.1"
  }
 },
 "nbformat": 4,
 "nbformat_minor": 2
}
