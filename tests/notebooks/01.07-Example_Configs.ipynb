{
 "cells": [
  {
   "cell_type": "markdown",
   "metadata": {},
   "source": [
    "<!--HEADER-->\n",
    "*[Test for the jupyterbookmaker module](https://github.com/rmsrosa/jupyterbookmaker)*"
   ]
  },
  {
   "cell_type": "markdown",
   "metadata": {},
   "source": [
    "<!--NAVIGATOR-->\n",
    "\n",
    "<a href=\"https://colab.research.google.com/github/rmsrosa/jupyterbookmaker/blob/master/notebooks/01.07-Example_Configs.ipynb\"><img align=\"left\" src=\"https://colab.research.google.com/assets/colab-badge.svg\" alt=\"Open in Colab\" title=\"Open and Execute in Google Colaboratory\"></a>\n",
    "&nbsp;\n",
    "<a href=\"https://mybinder.org/v2/gh/rmsrosa/jupyterbookmaker/master?filepath=notebooks/01.07-Example_Configs.ipynb\"><img align=\"left\" src=\"https://mybinder.org/badge.svg\" alt=\"Open in binder\" title=\"Open and Execute in Binder\"></a>\n",
    "&nbsp;\n",
    "\n",
    "[<- Creating the book-like structure from a configuration file](01.06-Configs_for_Creation.ipynb) | [Front page](00.00-Front_Page.ipynb) | [References](BA.00-References.ipynb) | [Running the bookmaker as a module ->](02.00-Run_as_Module.ipynb)\n",
    "\n",
    "---\n"
   ]
  },
  {
   "cell_type": "markdown",
   "metadata": {},
   "source": [
    "# Examples of configuration files\n",
    "\n",
    "Here are some examples of configuration files."
   ]
  },
  {
   "cell_type": "markdown",
   "metadata": {},
   "source": [
    "## Example of config file 1\n",
    "\n",
    "A config file with all three elements given separately.\n",
    "\n",
    "```yaml\n",
    "contents:\n",
    "  toc_nb_name : '00.00-Indice.ipynb'\n",
    "  directory : 'notebooks'\n",
    "\n",
    "book_header:\n",
    "  book_header : \"*[Test 1 for the jupyterbookmaker module](https://github.com/rmsrosa/jupyterbookmaker)*\"\n",
    "  directory : 'notebooks'\n",
    "\n",
    "navbars:\n",
    "  center_nav : \n",
    "    - '00.00-Indice.ipynb'\n",
    "    - 'BA.00-Bibliografia.ipynb'\n",
    "  directory : 'notebooks'\n",
    "  repository : 'rmsrosa/jupyterbookmaker'\n",
    "  branch : 'master'\n",
    "  show_colab : True\n",
    "  show_binder : True\n",
    "  show_full_entry : False\n",
    "```"
   ]
  },
  {
   "cell_type": "markdown",
   "metadata": {},
   "source": [
    "## Example of config file 2\n",
    "\n",
    "Another config file with all three elements given separately.\n",
    "\n",
    "```yaml\n",
    "contents:\n",
    "  toc_nb_name : '00.00-Indice.ipynb'\n",
    "  directory : 'notebooks'\n",
    "\n",
    "book_header:\n",
    "  book_header : \"*Test 2 for the jupyterbookmaker module*\"\n",
    "  directory : 'notebooks'\n",
    "\n",
    "navbars:\n",
    "  center_nav : \n",
    "    - '00.00-Indice.ipynb'\n",
    "  directory : 'notebooks'\n",
    "  show_colab : False\n",
    "  show_binder : False\n",
    "  show_full_entry : True\n",
    "```"
   ]
  },
  {
   "cell_type": "markdown",
   "metadata": {},
   "source": [
    "## Example of config file 3\n",
    "\n",
    "A config file with only the `makebook` key.\n",
    "\n",
    "```yaml\n",
    "makebook:\n",
    "  toc_nb_name : '00.00-Indice.ipynb'\n",
    "  book_header : \"*Test 3 for the jupyterbookmaker module*\"\n",
    "  center_nav : \n",
    "    - '00.00-Indice.ipynb'\n",
    "    - 'BA.00-Bibliografia.ipynb'\n",
    "  directory : 'notebooks'\n",
    "  show_full_entry : True\n",
    "```"
   ]
  },
  {
   "cell_type": "markdown",
   "metadata": {},
   "source": [
    "## Example of config file 4\n",
    "\n",
    "A config file to create only the headers and the table of contents.\n",
    "\n",
    "```yaml\n",
    "contents:\n",
    "  toc_nb_name : '00.00-Indice.ipynb'\n",
    "  directory : 'notebooks'\n",
    "\n",
    "book_header:\n",
    "  book_header : \"*Test 4 for the jupyterbookmaker module, without navigators.*\"\n",
    "  directory : 'notebooks'\n",
    "```"
   ]
  },
  {
   "cell_type": "markdown",
   "metadata": {},
   "source": [
    "## Example of config file 5\n",
    "\n",
    "A config file to create only the table of contents.\n",
    "\n",
    "```yaml\n",
    "contents:\n",
    "  toc_nb_name : '00.00-Indice.ipynb'\n",
    "  directory : 'notebooks'\n",
    "```"
   ]
  },
  {
   "cell_type": "markdown",
   "metadata": {},
   "source": [
    "<!--NAVIGATOR-->\n",
    "\n",
    "---\n",
    "[<- Creating the book-like structure from a configuration file](01.06-Configs_for_Creation.ipynb) | [Front page](00.00-Front_Page.ipynb) | [References](BA.00-References.ipynb) | [Running the bookmaker as a module ->](02.00-Run_as_Module.ipynb)\n",
    "\n",
    "<a href=\"https://colab.research.google.com/github/rmsrosa/jupyterbookmaker/blob/master/notebooks/01.07-Example_Configs.ipynb\"><img align=\"left\" src=\"https://colab.research.google.com/assets/colab-badge.svg\" alt=\"Open in Colab\" title=\"Open and Execute in Google Colaboratory\"></a>\n",
    "\n",
    "<a href=\"https://mybinder.org/v2/gh/rmsrosa/jupyterbookmaker/master?filepath=notebooks/01.07-Example_Configs.ipynb\"><img align=\"left\" src=\"https://mybinder.org/badge.svg\" alt=\"Open in binder\" title=\"Open and Execute in Binder\"></a>\n",
    "&nbsp;"
   ]
  }
 ],
 "metadata": {
  "kernelspec": {
   "display_name": "Python 3",
   "language": "python",
   "name": "python3"
  },
  "language_info": {
   "codemirror_mode": {
    "name": "ipython",
    "version": 3
   },
   "file_extension": ".py",
   "mimetype": "text/x-python",
   "name": "python",
   "nbconvert_exporter": "python",
   "pygments_lexer": "ipython3",
   "version": "3.7.1"
  }
 },
 "nbformat": 4,
 "nbformat_minor": 2
}
